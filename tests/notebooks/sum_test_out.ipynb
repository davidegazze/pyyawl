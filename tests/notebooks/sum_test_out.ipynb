{
 "cells": [
  {
   "cell_type": "code",
   "execution_count": 1,
   "metadata": {
    "ExecuteTime": {
     "end_time": "2020-09-28T13:03:55.877223Z",
     "start_time": "2020-09-28T13:03:55.875116Z"
    },
    "execution": {
     "iopub.execute_input": "2020-09-28T19:46:54.848918Z",
     "iopub.status.busy": "2020-09-28T19:46:54.848186Z",
     "iopub.status.idle": "2020-09-28T19:46:54.850318Z",
     "shell.execute_reply": "2020-09-28T19:46:54.850763Z"
    },
    "papermill": {
     "duration": 0.010629,
     "end_time": "2020-09-28T19:46:54.851036",
     "exception": false,
     "start_time": "2020-09-28T19:46:54.840407",
     "status": "completed"
    },
    "tags": [
     "parameters"
    ]
   },
   "outputs": [],
   "source": [
    "a = 2\n",
    "b = 3"
   ]
  },
  {
   "cell_type": "code",
   "execution_count": 2,
   "metadata": {
    "execution": {
     "iopub.execute_input": "2020-09-28T19:46:54.862403Z",
     "iopub.status.busy": "2020-09-28T19:46:54.861714Z",
     "iopub.status.idle": "2020-09-28T19:46:54.863567Z",
     "shell.execute_reply": "2020-09-28T19:46:54.864001Z"
    },
    "papermill": {
     "duration": 0.0079,
     "end_time": "2020-09-28T19:46:54.864181",
     "exception": false,
     "start_time": "2020-09-28T19:46:54.856281",
     "status": "completed"
    },
    "tags": [
     "injected-parameters"
    ]
   },
   "outputs": [],
   "source": [
    "# Parameters\n",
    "a = 8\n",
    "b = 4\n"
   ]
  },
  {
   "cell_type": "code",
   "execution_count": 3,
   "metadata": {
    "ExecuteTime": {
     "end_time": "2020-09-28T13:04:07.629906Z",
     "start_time": "2020-09-28T13:04:07.627653Z"
    },
    "execution": {
     "iopub.execute_input": "2020-09-28T19:46:54.872777Z",
     "iopub.status.busy": "2020-09-28T19:46:54.872159Z",
     "iopub.status.idle": "2020-09-28T19:46:54.874088Z",
     "shell.execute_reply": "2020-09-28T19:46:54.874487Z"
    },
    "papermill": {
     "duration": 0.007736,
     "end_time": "2020-09-28T19:46:54.874671",
     "exception": false,
     "start_time": "2020-09-28T19:46:54.866935",
     "status": "completed"
    },
    "tags": []
   },
   "outputs": [],
   "source": [
    "def sum_func(x,y):\n",
    "    return x + y"
   ]
  },
  {
   "cell_type": "code",
   "execution_count": 4,
   "metadata": {
    "ExecuteTime": {
     "end_time": "2020-09-28T13:04:18.817726Z",
     "start_time": "2020-09-28T13:04:18.814726Z"
    },
    "execution": {
     "iopub.execute_input": "2020-09-28T19:46:54.884314Z",
     "iopub.status.busy": "2020-09-28T19:46:54.883693Z",
     "iopub.status.idle": "2020-09-28T19:46:54.885881Z",
     "shell.execute_reply": "2020-09-28T19:46:54.886390Z"
    },
    "papermill": {
     "duration": 0.009014,
     "end_time": "2020-09-28T19:46:54.886575",
     "exception": false,
     "start_time": "2020-09-28T19:46:54.877561",
     "status": "completed"
    },
    "tags": []
   },
   "outputs": [
    {
     "name": "stdout",
     "output_type": "stream",
     "text": [
      "called 12\n"
     ]
    }
   ],
   "source": [
    "print('called', sum_func(a,b))"
   ]
  }
 ],
 "metadata": {
  "celltoolbar": "Tags",
  "kernelspec": {
   "display_name": "Python 3",
   "language": "python",
   "name": "python3"
  },
  "language_info": {
   "codemirror_mode": {
    "name": "ipython",
    "version": 3
   },
   "file_extension": ".py",
   "mimetype": "text/x-python",
   "name": "python",
   "nbconvert_exporter": "python",
   "pygments_lexer": "ipython3",
   "version": "3.8.5"
  },
  "papermill": {
   "default_parameters": {},
   "duration": 0.915033,
   "end_time": "2020-09-28T19:46:55.106418",
   "environment_variables": {},
   "exception": null,
   "input_path": "tests/notebooks/sum_test.ipynb",
   "output_path": "tests/notebooks/sum_test_out.ipynb",
   "parameters": {
    "a": 8,
    "b": 4
   },
   "start_time": "2020-09-28T19:46:54.191385",
   "version": "2.2.0"
  }
 },
 "nbformat": 4,
 "nbformat_minor": 4
}