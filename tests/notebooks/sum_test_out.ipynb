{
 "cells": [
  {
   "cell_type": "code",
   "execution_count": 1,
   "metadata": {
    "ExecuteTime": {
     "end_time": "2020-09-28T13:03:55.877223Z",
     "start_time": "2020-09-28T13:03:55.875116Z"
    },
    "execution": {
     "iopub.execute_input": "2020-09-28T18:59:11.266134Z",
     "iopub.status.busy": "2020-09-28T18:59:11.265487Z",
     "iopub.status.idle": "2020-09-28T18:59:11.267530Z",
     "shell.execute_reply": "2020-09-28T18:59:11.267983Z"
    },
    "papermill": {
     "duration": 0.011831,
     "end_time": "2020-09-28T18:59:11.268255",
     "exception": false,
     "start_time": "2020-09-28T18:59:11.256424",
     "status": "completed"
    },
    "tags": [
     "parameters"
    ]
   },
   "outputs": [],
   "source": [
    "a = 2\n",
    "b = 3"
   ]
  },
  {
   "cell_type": "code",
   "execution_count": 2,
   "metadata": {
    "execution": {
     "iopub.execute_input": "2020-09-28T18:59:11.277761Z",
     "iopub.status.busy": "2020-09-28T18:59:11.277056Z",
     "iopub.status.idle": "2020-09-28T18:59:11.278963Z",
     "shell.execute_reply": "2020-09-28T18:59:11.279397Z"
    },
    "papermill": {
     "duration": 0.00803,
     "end_time": "2020-09-28T18:59:11.279635",
     "exception": false,
     "start_time": "2020-09-28T18:59:11.271605",
     "status": "completed"
    },
    "tags": [
     "injected-parameters"
    ]
   },
   "outputs": [],
   "source": [
    "# Parameters\n",
    "a = 8\n",
    "b = 4\n"
   ]
  },
  {
   "cell_type": "code",
   "execution_count": 3,
   "metadata": {
    "ExecuteTime": {
     "end_time": "2020-09-28T13:04:07.629906Z",
     "start_time": "2020-09-28T13:04:07.627653Z"
    },
    "execution": {
     "iopub.execute_input": "2020-09-28T18:59:11.288414Z",
     "iopub.status.busy": "2020-09-28T18:59:11.287807Z",
     "iopub.status.idle": "2020-09-28T18:59:11.289852Z",
     "shell.execute_reply": "2020-09-28T18:59:11.290290Z"
    },
    "papermill": {
     "duration": 0.008067,
     "end_time": "2020-09-28T18:59:11.290470",
     "exception": false,
     "start_time": "2020-09-28T18:59:11.282403",
     "status": "completed"
    },
    "tags": []
   },
   "outputs": [],
   "source": [
    "def sum_func(x,y):\n",
    "    return x + y"
   ]
  },
  {
   "cell_type": "code",
   "execution_count": 4,
   "metadata": {
    "ExecuteTime": {
     "end_time": "2020-09-28T13:04:18.817726Z",
     "start_time": "2020-09-28T13:04:18.814726Z"
    },
    "execution": {
     "iopub.execute_input": "2020-09-28T18:59:11.301068Z",
     "iopub.status.busy": "2020-09-28T18:59:11.300356Z",
     "iopub.status.idle": "2020-09-28T18:59:11.302743Z",
     "shell.execute_reply": "2020-09-28T18:59:11.303171Z"
    },
    "papermill": {
     "duration": 0.009882,
     "end_time": "2020-09-28T18:59:11.303359",
     "exception": false,
     "start_time": "2020-09-28T18:59:11.293477",
     "status": "completed"
    },
    "tags": []
   },
   "outputs": [
    {
     "name": "stdout",
     "output_type": "stream",
     "text": [
      "called 12\n"
     ]
    }
   ],
   "source": [
    "print('called', sum_func(a,b))"
   ]
  }
 ],
 "metadata": {
  "celltoolbar": "Tags",
  "kernelspec": {
   "display_name": "Python 3",
   "language": "python",
   "name": "python3"
  },
  "language_info": {
   "codemirror_mode": {
    "name": "ipython",
    "version": 3
   },
   "file_extension": ".py",
   "mimetype": "text/x-python",
   "name": "python",
   "nbconvert_exporter": "python",
   "pygments_lexer": "ipython3",
   "version": "3.8.5"
  },
  "papermill": {
   "default_parameters": {},
   "duration": 1.167332,
   "end_time": "2020-09-28T18:59:11.517563",
   "environment_variables": {},
   "exception": null,
   "input_path": "tests/notebooks/sum_test.ipynb",
   "output_path": "tests/notebooks/sum_test_out.ipynb",
   "parameters": {
    "a": 8,
    "b": 4
   },
   "start_time": "2020-09-28T18:59:10.350231",
   "version": "2.2.0"
  }
 },
 "nbformat": 4,
 "nbformat_minor": 4
}