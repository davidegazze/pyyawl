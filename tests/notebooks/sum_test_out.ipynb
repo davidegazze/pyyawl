{
 "cells": [
  {
   "cell_type": "code",
   "execution_count": 1,
   "metadata": {
    "ExecuteTime": {
     "end_time": "2020-09-28T13:03:55.877223Z",
     "start_time": "2020-09-28T13:03:55.875116Z"
    },
    "execution": {
     "iopub.execute_input": "2020-09-28T18:52:17.874315Z",
     "iopub.status.busy": "2020-09-28T18:52:17.873680Z",
     "iopub.status.idle": "2020-09-28T18:52:17.875708Z",
     "shell.execute_reply": "2020-09-28T18:52:17.876148Z"
    },
    "papermill": {
     "duration": 0.009577,
     "end_time": "2020-09-28T18:52:17.876419",
     "exception": false,
     "start_time": "2020-09-28T18:52:17.866842",
     "status": "completed"
    },
    "tags": [
     "parameters"
    ]
   },
   "outputs": [],
   "source": [
    "a = 2\n",
    "b = 3"
   ]
  },
  {
   "cell_type": "code",
   "execution_count": 2,
   "metadata": {
    "execution": {
     "iopub.execute_input": "2020-09-28T18:52:17.885845Z",
     "iopub.status.busy": "2020-09-28T18:52:17.885178Z",
     "iopub.status.idle": "2020-09-28T18:52:17.886949Z",
     "shell.execute_reply": "2020-09-28T18:52:17.887325Z"
    },
    "papermill": {
     "duration": 0.007752,
     "end_time": "2020-09-28T18:52:17.887502",
     "exception": false,
     "start_time": "2020-09-28T18:52:17.879750",
     "status": "completed"
    },
    "tags": [
     "injected-parameters"
    ]
   },
   "outputs": [],
   "source": [
    "# Parameters\n",
    "a = 8\n",
    "b = 4\n"
   ]
  },
  {
   "cell_type": "code",
   "execution_count": 3,
   "metadata": {
    "ExecuteTime": {
     "end_time": "2020-09-28T13:04:07.629906Z",
     "start_time": "2020-09-28T13:04:07.627653Z"
    },
    "execution": {
     "iopub.execute_input": "2020-09-28T18:52:17.895687Z",
     "iopub.status.busy": "2020-09-28T18:52:17.895027Z",
     "iopub.status.idle": "2020-09-28T18:52:17.896698Z",
     "shell.execute_reply": "2020-09-28T18:52:17.897095Z"
    },
    "papermill": {
     "duration": 0.007159,
     "end_time": "2020-09-28T18:52:17.897267",
     "exception": false,
     "start_time": "2020-09-28T18:52:17.890108",
     "status": "completed"
    },
    "tags": []
   },
   "outputs": [],
   "source": [
    "def sum_func(x,y):\n",
    "    return x + y"
   ]
  },
  {
   "cell_type": "code",
   "execution_count": 4,
   "metadata": {
    "ExecuteTime": {
     "end_time": "2020-09-28T13:04:18.817726Z",
     "start_time": "2020-09-28T13:04:18.814726Z"
    },
    "execution": {
     "iopub.execute_input": "2020-09-28T18:52:17.906939Z",
     "iopub.status.busy": "2020-09-28T18:52:17.906279Z",
     "iopub.status.idle": "2020-09-28T18:52:17.908578Z",
     "shell.execute_reply": "2020-09-28T18:52:17.909038Z"
    },
    "papermill": {
     "duration": 0.00908,
     "end_time": "2020-09-28T18:52:17.909211",
     "exception": false,
     "start_time": "2020-09-28T18:52:17.900131",
     "status": "completed"
    },
    "tags": []
   },
   "outputs": [
    {
     "name": "stdout",
     "output_type": "stream",
     "text": [
      "called 12\n"
     ]
    }
   ],
   "source": [
    "print('called', sum_func(a,b))"
   ]
  }
 ],
 "metadata": {
  "celltoolbar": "Tags",
  "kernelspec": {
   "display_name": "Python 3",
   "language": "python",
   "name": "python3"
  },
  "language_info": {
   "codemirror_mode": {
    "name": "ipython",
    "version": 3
   },
   "file_extension": ".py",
   "mimetype": "text/x-python",
   "name": "python",
   "nbconvert_exporter": "python",
   "pygments_lexer": "ipython3",
   "version": "3.8.5"
  },
  "papermill": {
   "default_parameters": {},
   "duration": 1.326006,
   "end_time": "2020-09-28T18:52:18.126223",
   "environment_variables": {},
   "exception": null,
   "input_path": "tests/notebooks/sum_test.ipynb",
   "output_path": "tests/notebooks/sum_test_out.ipynb",
   "parameters": {
    "a": 8,
    "b": 4
   },
   "start_time": "2020-09-28T18:52:16.800217",
   "version": "2.2.0"
  }
 },
 "nbformat": 4,
 "nbformat_minor": 4
}